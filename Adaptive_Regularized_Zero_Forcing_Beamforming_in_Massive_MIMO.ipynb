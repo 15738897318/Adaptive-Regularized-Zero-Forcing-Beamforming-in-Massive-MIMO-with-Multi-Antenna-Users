{
 "cells": [
  {
   "cell_type": "markdown",
   "metadata": {},
   "source": [
    "## Complex Precoding LMMSE Pytorch Paper"
   ]
  },
  {
   "cell_type": "code",
   "execution_count": 1,
   "metadata": {},
   "outputs": [],
   "source": [
    "import math\n",
    "import torch\n",
    "\n",
    "import numpy as np\n",
    "import pandas as pd\n",
    "import matplotlib.pyplot as plt\n",
    "\n",
    "import scipy as sp\n",
    "from scipy.stats import gmean\n",
    "from scipy.io import loadmat\n",
    "\n",
    "from time import time\n",
    "from glob import glob\n",
    "from bisect import bisect\n",
    "from functools import partial\n",
    "from collections import defaultdict\n",
    "from tqdm import trange\n",
    "\n",
    "import seaborn as sns\n",
    "sns.set(rc={'figure.figsize':(9.7,6.27)}, style=\"whitegrid\", font_scale=1.2)"
   ]
  },
  {
   "cell_type": "code",
   "execution_count": 2,
   "metadata": {},
   "outputs": [],
   "source": [
    "# H (n_users, n_layers, n_antennas)\n",
    "# W (n_antennas, n_users, n_ranks)"
   ]
  },
  {
   "cell_type": "code",
   "execution_count": 3,
   "metadata": {},
   "outputs": [],
   "source": [
    "def lin2db(x):\n",
    "    \"\"\" Map linear scale to the logarithmic db \"\"\"\n",
    "    return 10 * np.log10(x)\n",
    "\n",
    "def db2lin(x):\n",
    "    \"\"\" Map linear scale to the logarithmic db \"\"\"\n",
    "    return 10 ** (x / 10)\n",
    "    \n",
    "def zero_forcing(V):\n",
    "    \"\"\" Zero Forcing precoding in its native implementation \"\"\"\n",
    "    return V.solve(V @ V.conj().t())[0].conj().t()\n",
    "\n",
    "def regularized_singular(V, S, n):\n",
    "    \"\"\" Regularization with inversed squared singular values \"\"\"\n",
    "    return V.solve(V @ V.conj().t() + V.shape[0] * ((n / S) ** 2).diag())[0].conj().t()\n",
    "\n",
    "def regularized(V, n):\n",
    "    \"\"\" Regularization with inversed squared singular values \"\"\"\n",
    "    return V.solve(V @ V.conj().t() + V.shape[0] * torch.eye(V.shape[0]) * n ** 2)[0].conj().t()\n",
    "\n",
    "def wiener(V, n):\n",
    "    \"\"\" Regularization with inversed squared singular values \"\"\"\n",
    "    return V.solve(V @ V.conj().t() + V.shape[0] * torch.eye(V.shape[0]) * n)[0].conj().t()\n",
    "\n",
    "def regularized_numpy(V, S, n):\n",
    "    \"\"\" Regularization with squared singular values \"\"\"\n",
    "    return np.linalg.solve(V @ V.conj().T + V.shape[0] * np.diag(n / S) ** 2, V).conj().T\n",
    "\n",
    "def generalized_test(V, S, d, n):\n",
    "    \"\"\" Generalization of regularized zero forcing with d-scaling \"\"\"\n",
    "    return (V * d).solve((V * d) @ V.conj().t() + V.shape[0] * ((n / S) ** 2).diag())[0].conj().t()\n",
    "\n",
    "def generalized(V, d, n):\n",
    "    \"\"\" Generalization of regularized zero forcing with d-scaling \"\"\"\n",
    "    return (V * d).solve((V * d) @ V.conj().t() + V.shape[0] * torch.eye(V.shape[0]) * n ** 2)[0].conj().t()\n",
    "\n",
    "def normalize_precoding(W):\n",
    "    \"\"\" Make feasible per antenna power with equalization \"\"\"\n",
    "    T = W / W.norm(dim=0)\n",
    "    return T / T.norm(dim=1).max() / T.shape[0] ** 0.5\n",
    "\n",
    "def normalize_max_antennas(W):\n",
    "    \"\"\" Make feasible per antenna power with equalization \"\"\"\n",
    "    return W / W.norm(dim=1).max() / W.shape[0] ** 0.5\n",
    "\n",
    "def equalize_users_antennas(W):\n",
    "    T = W / W.norm(dim=0)\n",
    "    return T / T.norm(dim=1, keepdim=True) / T.shape[0] ** 0.5\n",
    "\n",
    "def equalize_antennas(W):\n",
    "    return W / W.norm(dim=1, keepdim=True) / W.shape[0] ** 0.5\n",
    "\n",
    "def equalize_users_antennas_numpy(W):\n",
    "    T = W / np.linalg.norm(W, axis=0)\n",
    "    return T / np.linalg.norm(T, axis=1, keepdims=True) / T.shape[0] ** 0.5\n",
    "\n",
    "def equalize_antennas_outside(W):\n",
    "    n = W.norm(dim=1, keepdim=True) * W.shape[0] ** 0.5\n",
    "    return torch.where(n > 1, W / n, W)\n",
    "\n",
    "def tgmean(input_x, dim):\n",
    "    \"\"\" Differentiable Torch Geometric Mean \"\"\"\n",
    "    log_x = torch.log(input_x)\n",
    "    return torch.exp(torch.mean(log_x, dim=dim))\n",
    "\n",
    "def su_sinr(S, s):\n",
    "    return lin2db(gmean(S.reshape(-1, n_ranks) ** 2, axis=1) / (n_ranks * s ** 2)).mean()\n",
    "\n",
    "def spectral_efficiency(H, W, s):\n",
    "    \"\"\" Score function is applied for torch complex tensors \"\"\"\n",
    "    B = H @ W.reshape(-1, n_users, n_ranks).permute(1, 0, 2)\n",
    "    K = B.permute(0, 2, 1).conj() @ B + torch.eye(B.shape[2]) * s ** 2\n",
    "    \n",
    "    G = B.permute(0, 2, 1).conj().solve(K)[0]\n",
    "    G = torch.block_diag(*G)\n",
    "    \n",
    "    A = (G @ H.reshape(-1, n_antennas) @ W).abs() ** 2\n",
    "    N = A.sum(dim=1) + (G.abs() ** 2).sum(dim=1) * s ** 2\n",
    "    D = N - A.diag()\n",
    "    L = tgmean(((N / D) - 1).reshape(-1, n_ranks), dim=-1)\n",
    "    return (1 + L).log2().mean() * n_ranks\n",
    "\n",
    "def min_spectral_efficiency(H, W, s):\n",
    "    \"\"\" Score function is applied for torch complex tensors \"\"\"\n",
    "    B = H @ W.reshape(-1, n_users, n_ranks).permute(1, 0, 2)\n",
    "    K = B.permute(0, 2, 1).conj() @ B + torch.eye(B.shape[2]) * s ** 2\n",
    "    \n",
    "    G = B.permute(0, 2, 1).conj().solve(K)[0]\n",
    "    G = torch.block_diag(*G)\n",
    "    \n",
    "    A = (G @ H.reshape(-1, n_antennas) @ W).abs() ** 2\n",
    "    N = A.sum(dim=1) + (G.abs() ** 2).sum(dim=1) * s ** 2\n",
    "    D = N - A.diag()\n",
    "    L = tgmean(((N / D) - 1).reshape(-1, n_ranks), dim=-1)\n",
    "    return (1 + L).log2().min() * n_ranks\n",
    "\n",
    "def spectral_efficiency_irc(H, W, s):\n",
    "    \"\"\" Score function is applied for torch complex tensors \"\"\"\n",
    "    X = H.reshape(-1, n_antennas) @ W\n",
    "    Y = X.reshape(n_users, n_layers, n_users, n_ranks)\n",
    "    Z = Y.permute(0, 2, 1, 3) @ Y.permute(0, 2, 3, 1).conj()\n",
    "    J = Z.permute(0, 2, 1, 3).reshape([n_users * n_layers] * 2)\n",
    "\n",
    "    R = J.reshape(n_users, n_layers, n_users, n_layers).sum(dim=2)\n",
    "    Q = torch.eye(R.shape[1]) * s ** 2\n",
    "\n",
    "    B = H @ W.reshape(-1, n_users, n_ranks).permute(1, 0, 2)\n",
    "    G = B.solve(R + Q)[0].permute(0, 2, 1).conj()\n",
    "    G = torch.block_diag(*G)\n",
    "\n",
    "    A = (G @ X).abs() ** 2\n",
    "    N = A.sum(dim=1) + (G.abs() ** 2).sum(axis=1) * s ** 2\n",
    "    D = N - A.diag()\n",
    "    L = tgmean(((N / D) - 1).reshape(-1, n_ranks), dim=-1)\n",
    "    return (1 + L).log2().mean() * n_ranks\n",
    "\n",
    "def min_spectral_efficiency_irc(H, W, s):\n",
    "    \"\"\" Score function is applied for torch complex tensors \"\"\"\n",
    "    X = H.reshape(-1, n_antennas) @ W\n",
    "    Y = X.reshape(n_users, n_layers, n_users, n_ranks)\n",
    "    Z = Y.permute(0, 2, 1, 3) @ Y.permute(0, 2, 3, 1).conj()\n",
    "    J = Z.permute(0, 2, 1, 3).reshape([n_users * n_layers] * 2)\n",
    "\n",
    "    R = J.reshape(n_users, n_layers, n_users, n_layers).sum(dim=2)\n",
    "    Q = torch.eye(R.shape[1]) * s ** 2\n",
    "\n",
    "    B = H @ W.reshape(-1, n_users, n_ranks).permute(1, 0, 2)\n",
    "    G = B.solve(R + Q)[0].permute(0, 2, 1).conj()\n",
    "    G = torch.block_diag(*G)\n",
    "\n",
    "    A = (G @ X).abs() ** 2\n",
    "    N = A.sum(dim=1) + (G.abs() ** 2).sum(axis=1) * s ** 2\n",
    "    D = N - A.diag()\n",
    "    L = tgmean(((N / D) - 1).reshape(-1, n_ranks), dim=-1)\n",
    "    return (1 + L).log2().min() * n_ranks\n",
    "\n",
    "def shannon_efficience(V, W, S, s):\n",
    "    \"\"\" Score function is applied for torch complex tensors\n",
    "            sum_k (log (sum_l |<f_k, w_l>|^2 + s^2) - \n",
    "                        log (sum_{l\\k} |<f_k, w_l>|^2 + s^2)) \n",
    "    \"\"\"\n",
    "    A = (V @ W).abs() ** 2\n",
    "    N = A.sum(dim=1) + (s / S) ** 2 * V.shape[0]\n",
    "    D = N - A.diag()\n",
    "    L = N.log2() - D.log2()\n",
    "    return L.mean()\n",
    "    #L = tgmean(((N / D) - 1).reshape(-1, n_ranks), dim=-1)\n",
    "    #return (1 + L).log().mean() * n_ranks\n",
    "    \n",
    "def compute_beta(V, W, s):\n",
    "    A = V @ W\n",
    "    N = A.diag()\n",
    "    D1 = (A.abs() ** 2).sum(dim=0) \n",
    "    D2 = (W.abs() ** 2).sum(dim=0) * s ** 2\n",
    "    return (N / (D1 + D2)).conj()\n",
    "\n",
    "def compute_alpha(V, W, s):\n",
    "    A = W @ V\n",
    "    N = A.diag()\n",
    "    D1 = (A.abs() ** 2).sum(dim=1) \n",
    "    D2 = (W.abs() ** 2).sum(dim=1) * s ** 2\n",
    "    return (N / (D1 + D2)).conj()\n",
    "    \n",
    "def quantize(X):\n",
    "    return (X / X.abs().max() * 128).round()\n",
    "    \n",
    "def quantized_zero_forcing(V):\n",
    "    W = regularized(V, s)\n",
    "    return torch.complex(\n",
    "        quantize(W.real), quantize(W.imag))\n",
    "\n",
    "def beta_quantized_zero_forcing(V, s):\n",
    "    W = quantized_zero_forcing(V)\n",
    "    return compute_beta(V, W, s) * W\n",
    "\n",
    "def alpha_quantized_zero_forcing(V, s):\n",
    "    W = quantized_zero_forcing(V)\n",
    "    return compute_alpha(V, W, s)[:, None] * W\n",
    "\n",
    "def generate_channel(n_users, n_layers, n_antennas):\n",
    "    \"\"\" Sample channel matrix H from the complex normal distribution CN(0, I) \"\"\"\n",
    "    return np.random.randn(n_users, n_layers, n_antennas, 2).view(complex).squeeze() / 2 ** 0.5"
   ]
  },
  {
   "cell_type": "markdown",
   "metadata": {},
   "source": [
    "$W = K V^H ( V V^H + \\sigma I)^{-1} L \\rightarrow \\max_{\\sigma \\in R}$"
   ]
  },
  {
   "cell_type": "markdown",
   "metadata": {},
   "source": [
    "### SVD-Decomposition\n",
    "\n",
    "Each user channel $H$ has $m$ layers and $n$ bs-antennas:\n",
    "\n",
    "$ H = U^* \\Sigma V \\quad H, V \\in \\mathbb{R}^{m \\times n} \\quad U^*, \\Sigma \\in \\mathbb{R}^{m \\times m}$\n",
    "\n",
    "$ H U = \\Sigma V$"
   ]
  },
  {
   "cell_type": "markdown",
   "metadata": {},
   "source": [
    "$r = G(HWx + n) = GHWx +Gn$\n",
    "\n",
    "$ A = GHW, A^{N \\times N} $\n",
    "\n",
    "### Partial SVD: \n",
    "\n",
    "$H \\sim U^H S V, V^{L \\times M}, H^{N \\times M}, L \\leq N$\n",
    "\n",
    "$M = 64, N = 4, L = 2$\n",
    "\n",
    "$ G = S^{-1} U $"
   ]
  },
  {
   "cell_type": "markdown",
   "metadata": {},
   "source": [
    "$r = S^{-1} U ( U^H S V Wx + n)$"
   ]
  },
  {
   "cell_type": "markdown",
   "metadata": {},
   "source": [
    "$r = VW x + S^{-1} U n$"
   ]
  },
  {
   "cell_type": "markdown",
   "metadata": {},
   "source": [
    "$A = VW, A^{L \\times L}$"
   ]
  },
  {
   "cell_type": "markdown",
   "metadata": {},
   "source": [
    "$r = HWx + n, \\|x\\| \\le 1, trace ( xx^* ) = 1$"
   ]
  },
  {
   "cell_type": "markdown",
   "metadata": {},
   "source": [
    "### LMMSE Proof\n",
    "\n",
    "$\\|r - x\\|^2 = \\|HWx - x \\|^2 = \\| (HW - I) x \\|^2 \\leq \\| HW - I\\|^2 -> \\min_W : W = H^\\dagger$"
   ]
  },
  {
   "cell_type": "markdown",
   "metadata": {},
   "source": [
    "$ <HWx, HWx> - 2<HWx, x> + <x, x> = <(HW)^* HW , x x^*> - 2 <HW, x x^*>$"
   ]
  },
  {
   "cell_type": "markdown",
   "metadata": {},
   "source": [
    "$W = (H^*H)^{-1}H^*$"
   ]
  },
  {
   "cell_type": "markdown",
   "metadata": {},
   "source": [
    "$W = H^* (H H^*)^{-1}$"
   ]
  },
  {
   "cell_type": "markdown",
   "metadata": {},
   "source": [
    "### Massive Experiments"
   ]
  },
  {
   "cell_type": "code",
   "execution_count": 4,
   "metadata": {},
   "outputs": [],
   "source": [
    "from collections.abc import Sequence\n",
    "\n",
    "class FlyingSuSinr(Sequence):\n",
    "    def __init__(self, S, s_grid):\n",
    "        \"\"\"Construct a lazy sequence representation\"\"\"\n",
    "        self.s_grid = s_grid\n",
    "        self.n = len(self.s_grid)\n",
    "        self.sinr = partial(su_sinr, S)\n",
    "    def __len__(self):\n",
    "        return self.n\n",
    "    def __getitem__(self, i):\n",
    "        if not (0 <= i < self.n):\n",
    "            raise IndexError\n",
    "        return self.sinr(self.s_grid[i])"
   ]
  },
  {
   "cell_type": "code",
   "execution_count": 5,
   "metadata": {},
   "outputs": [],
   "source": [
    "from torch.optim import LBFGS\n",
    "\n",
    "def diagonal_regularizer_solver(H, V, S, s):\n",
    "    x = (s / S).requires_grad_()\n",
    "    optim = LBFGS([x], line_search_fn=\"strong_wolfe\")\n",
    "    def closure():\n",
    "        W = normalize_max_antennas(regularized(V, x))\n",
    "        func = -spectral_efficiency(H, W, s)\n",
    "        optim.zero_grad()\n",
    "        func.backward()\n",
    "        return func\n",
    "    optim.step(closure)\n",
    "    return x.detach()\n",
    "\n",
    "def calc_corr(C):\n",
    "    return ((np.abs(C @ C.conj().T) - np.eye(C.shape[0])) ** 2).mean()"
   ]
  },
  {
   "cell_type": "markdown",
   "metadata": {},
   "source": [
    "# Sanity check before massive experiments"
   ]
  },
  {
   "cell_type": "code",
   "execution_count": 6,
   "metadata": {},
   "outputs": [
    {
     "name": "stdout",
     "output_type": "stream",
     "text": [
      "coeff.1.mat   coeff.26.mat  coeff.36.mat  coeff.3.mat   coeff.7.mat\r\n",
      "coeff.24.mat  coeff.2.mat   coeff.38.mat  coeff.40.mat  coeff.9.mat\r\n"
     ]
    }
   ],
   "source": [
    "ls \"Channels/n_users=4/3GPP_38.901_UMa_NLOS/far_users/urban/notcorrelated_users/\""
   ]
  },
  {
   "cell_type": "code",
   "execution_count": 7,
   "metadata": {},
   "outputs": [],
   "source": [
    "path = \"Channels/n_users=4/3GPP_38.901_UMa_NLOS/far_users/urban/notcorrelated_users/coeff.24.mat\""
   ]
  },
  {
   "cell_type": "code",
   "execution_count": 8,
   "metadata": {},
   "outputs": [],
   "source": [
    "H = loadmat(path)[\"coeff\"][..., -1]\n",
    "H[0] *= 10\n",
    "H[1] *= 2\n",
    "H[2] /= 2\n",
    "H[3] /= 10\n",
    "\n",
    "n_users, n_layers, n_antennas = H.shape # Global constants\n",
    "S, V = np.linalg.svd(H, full_matrices=False)[1:]\n",
    "S_max = S[:, 0].max()\n",
    "H /= S_max; S /= S_max\n",
    "\n",
    "target_sinr = 20\n",
    "s_grid = np.logspace(1, -5, num=200)\n",
    "n_antennas, n_ranks = 64, 2"
   ]
  },
  {
   "cell_type": "code",
   "execution_count": 9,
   "metadata": {},
   "outputs": [
    {
     "data": {
      "text/plain": [
       "0.0014820207057988585"
      ]
     },
     "execution_count": 9,
     "metadata": {},
     "output_type": "execute_result"
    }
   ],
   "source": [
    "flying_sinr = FlyingSuSinr(S, s_grid)\n",
    "s = s_grid[bisect(flying_sinr, target_sinr)]\n",
    "s"
   ]
  },
  {
   "cell_type": "code",
   "execution_count": 10,
   "metadata": {},
   "outputs": [],
   "source": [
    "V = torch.from_numpy(V[:, :n_ranks, :].reshape(-1, n_antennas))\n",
    "S = torch.from_numpy(S[:, :n_ranks].flatten())\n",
    "H = torch.from_numpy(H)"
   ]
  },
  {
   "cell_type": "code",
   "execution_count": 11,
   "metadata": {},
   "outputs": [
    {
     "name": "stderr",
     "output_type": "stream",
     "text": [
      "<ipython-input-3-4baae0ea1346>:15: UserWarning: torch.solve is deprecated in favor of torch.linalg.solveand will be removed in a future PyTorch release.\n",
      "torch.linalg.solve has its arguments reversed and does not return the LU factorization.\n",
      "To get the LU factorization see torch.lu, which can be used with torch.lu_solve or torch.lu_unpack.\n",
      "X = torch.solve(B, A).solution\n",
      "should be replaced with\n",
      "X = torch.linalg.solve(A, B) (Triggered internally at  /opt/conda/conda-bld/pytorch_1640811740025/work/aten/src/ATen/native/BatchLinearAlgebra.cpp:766.)\n",
      "  return V.solve(V @ V.conj().t() + V.shape[0] * ((n / S) ** 2).diag())[0].conj().t()\n"
     ]
    },
    {
     "data": {
      "text/plain": [
       "tensor(11.0170, dtype=torch.float64)"
      ]
     },
     "execution_count": 11,
     "metadata": {},
     "output_type": "execute_result"
    }
   ],
   "source": [
    "W = normalize_precoding(regularized_singular(V, S, s))\n",
    "spectral_efficiency_irc(H, W, s)"
   ]
  },
  {
   "cell_type": "code",
   "execution_count": 12,
   "metadata": {},
   "outputs": [
    {
     "data": {
      "text/plain": [
       "tensor(10.3239, dtype=torch.float64)"
      ]
     },
     "execution_count": 12,
     "metadata": {},
     "output_type": "execute_result"
    }
   ],
   "source": [
    "W = normalize_precoding(zero_forcing(V))\n",
    "spectral_efficiency_irc(H, W, s)"
   ]
  },
  {
   "cell_type": "code",
   "execution_count": 13,
   "metadata": {},
   "outputs": [
    {
     "data": {
      "text/plain": [
       "tensor(10.3241, dtype=torch.float64)"
      ]
     },
     "execution_count": 13,
     "metadata": {},
     "output_type": "execute_result"
    }
   ],
   "source": [
    "W = normalize_precoding(regularized(V, s))\n",
    "spectral_efficiency_irc(H, W, s)"
   ]
  },
  {
   "cell_type": "code",
   "execution_count": 14,
   "metadata": {},
   "outputs": [
    {
     "name": "stderr",
     "output_type": "stream",
     "text": [
      "100%|██████████| 11/11 [00:45<00:00,  4.16s/it]\n"
     ]
    }
   ],
   "source": [
    "history, times = defaultdict(list), defaultdict(list)\n",
    "s_grid = np.logspace(1, -10, num=200)\n",
    "n_antennas, n_ranks = 64, 2\n",
    "#full_path = \"Channels/n_users=4/3GPP_38.901_UMa_NLOS/far_users/urban/notcorrelated_users/*\"\n",
    "full_path = \"Channels/n_users=4/3GPP_38.901_UMa_NLOS/**/*.mat\"\n",
    "\n",
    "for target_sinr in trange(0, 41, 4):\n",
    "    for i, path in enumerate(glob(full_path, recursive=True)):\n",
    "        H = loadmat(path)[\"coeff\"][..., -1]\n",
    "        H[0] *= 10\n",
    "        H[1] *= 2\n",
    "        H[2] /= 2\n",
    "        H[3] /= 10\n",
    "        n_users, n_layers, n_antennas = H.shape # Global constants\n",
    "        S, V = np.linalg.svd(H, full_matrices=False)[1:]\n",
    "        S_max = S[:, 0].max()\n",
    "        H /= S_max; S /= S_max\n",
    "\n",
    "        flying_sinr = FlyingSuSinr(S, s_grid)\n",
    "        s = s_grid[bisect(flying_sinr, target_sinr)]\n",
    "        \n",
    "        history[\"Correlation\"].append(calc_corr(V[:, 0, :]))\n",
    "        \n",
    "        V = torch.from_numpy(V[:, :n_ranks, :].reshape(-1, n_antennas))\n",
    "        S = torch.from_numpy(S[:, :n_ranks].flatten())\n",
    "        H = torch.from_numpy(H)\n",
    "        \n",
    "        start = time()\n",
    "        W_MR = normalize_max_antennas(V.conj().t())\n",
    "        times[\"Maximum-Ratio\"].append(time() - start)\n",
    "        \n",
    "        start = time()\n",
    "        W_NMR = normalize_max_antennas(S * V.conj().t())\n",
    "        times[\"Maximum-Ratio\"].append(time() - start)\n",
    "        \n",
    "        start = time()\n",
    "        W_ZF = normalize_max_antennas(zero_forcing(V))\n",
    "        times[\"Zero-Forcing\"].append(time() - start)\n",
    "        \n",
    "        start = time()\n",
    "        W_NZF = normalize_max_antennas(zero_forcing(S.unsqueeze(1) * V))\n",
    "        times[\"Un-normalized Zero-Forcing\"].append(time() - start)\n",
    "        \n",
    "        start = time()\n",
    "        W_RG = normalize_max_antennas(regularized(V, s))\n",
    "        times[\"Regularized Zero-Forcing\"].append(time() - start)\n",
    "        \n",
    "        start = time()\n",
    "        W_WRG = normalize_max_antennas(wiener(V, ((s / S) ** 2).mean()))\n",
    "        times[\"Wiener Zero-Forcing\"].append(time() - start)\n",
    "        \n",
    "        start = time()\n",
    "        W_SRG = normalize_max_antennas(regularized_singular(V, S, s))\n",
    "        times[\"Singular Value Based Zero-Forcing\"].append(time() - start)\n",
    "        \n",
    "        start = time()\n",
    "        W_NSRG = normalize_max_antennas(regularized(S.unsqueeze(1) * V, s))\n",
    "        times[\"Unnormalized Regularized Zero-Forcing\"].append(time() - start)\n",
    "\n",
    "        start = time()\n",
    "        r = diagonal_regularizer_solver(H, V, S, s)\n",
    "        W_DR = normalize_max_antennas(regularized(V, r))\n",
    "        times[\"Optimal RZF\"].append(time() - start)\n",
    "        \n",
    "        history[\"$W_{MRT}(V)$\"].append(float(spectral_efficiency(H, W_MR, s)))\n",
    "        history[\"$W_{ZF}(V)$\"].append(float(spectral_efficiency(H, W_ZF, s)))\n",
    "        history[\"$W_{ZF}(F)$\"].append(float(spectral_efficiency(H, W_NZF, s)))\n",
    "        history[\"$W_{RZF}(V)$\"].append(float(spectral_efficiency(H, W_RG, s)))\n",
    "        history[\"$W_{RZF}(F)$\"].append(float(spectral_efficiency(H, W_NSRG, s)))        \n",
    "        history[\"$W_{WRZF}(V)$\"].append(float(spectral_efficiency(H, W_WRG, s)))\n",
    "        history[\"$W_{ARZF}(V)$\"].append(float(spectral_efficiency(H, W_SRG, s)))\n",
    "        history[\"$W_{OPT}(V)$\"].append(float(spectral_efficiency(H, W_DR, s)))\n",
    "        history[\"SU SINR\"].append(target_sinr)"
   ]
  },
  {
   "cell_type": "code",
   "execution_count": 15,
   "metadata": {},
   "outputs": [],
   "source": [
    "F = S.unsqueeze(1) * V\n",
    "W1 = normalize_precoding(regularized(F, s))"
   ]
  },
  {
   "cell_type": "code",
   "execution_count": 16,
   "metadata": {},
   "outputs": [],
   "source": [
    "W2 = normalize_precoding(regularized_singular(V, S, s))"
   ]
  },
  {
   "cell_type": "code",
   "execution_count": 17,
   "metadata": {},
   "outputs": [
    {
     "data": {
      "text/plain": [
       "tensor(13.1487, dtype=torch.float64)"
      ]
     },
     "execution_count": 17,
     "metadata": {},
     "output_type": "execute_result"
    }
   ],
   "source": [
    "spectral_efficiency(H, W1, s)"
   ]
  },
  {
   "cell_type": "code",
   "execution_count": 18,
   "metadata": {},
   "outputs": [
    {
     "data": {
      "text/plain": [
       "tensor(13.1487, dtype=torch.float64)"
      ]
     },
     "execution_count": 18,
     "metadata": {},
     "output_type": "execute_result"
    }
   ],
   "source": [
    "spectral_efficiency(H, W2, s)"
   ]
  },
  {
   "cell_type": "code",
   "execution_count": 19,
   "metadata": {},
   "outputs": [
    {
     "data": {
      "text/plain": [
       "0.076"
      ]
     },
     "execution_count": 19,
     "metadata": {},
     "output_type": "execute_result"
    }
   ],
   "source": [
    "np.mean(history['Correlation']).round(3)"
   ]
  },
  {
   "cell_type": "code",
   "execution_count": 20,
   "metadata": {},
   "outputs": [
    {
     "data": {
      "text/plain": [
       "0.051"
      ]
     },
     "execution_count": 20,
     "metadata": {},
     "output_type": "execute_result"
    }
   ],
   "source": [
    "np.std(history['Correlation']).round(3)"
   ]
  },
  {
   "cell_type": "code",
   "execution_count": 21,
   "metadata": {},
   "outputs": [
    {
     "data": {
      "text/plain": [
       "'n_users_4_3GPP_38.901_UMa_NLOS_**'"
      ]
     },
     "execution_count": 21,
     "metadata": {},
     "output_type": "execute_result"
    }
   ],
   "source": [
    "history = pd.DataFrame(history)\n",
    "#history[\"SU SINR\"] /= 2\n",
    "history.drop(columns=\"Correlation\", inplace=True)\n",
    "history_mean = history.groupby(\"SU SINR\").mean()\n",
    "history_std = history.groupby(\"SU SINR\").std()\n",
    "\n",
    "scenario_name = '_'.join(full_path.split('/')[1:-1])\n",
    "scenario_name = scenario_name.replace(\"=\", \"_\")\n",
    "scenario_name"
   ]
  },
  {
   "cell_type": "code",
   "execution_count": 22,
   "metadata": {},
   "outputs": [
    {
     "data": {
      "text/html": [
       "<div>\n",
       "<style scoped>\n",
       "    .dataframe tbody tr th:only-of-type {\n",
       "        vertical-align: middle;\n",
       "    }\n",
       "\n",
       "    .dataframe tbody tr th {\n",
       "        vertical-align: top;\n",
       "    }\n",
       "\n",
       "    .dataframe thead th {\n",
       "        text-align: right;\n",
       "    }\n",
       "</style>\n",
       "<table border=\"1\" class=\"dataframe\">\n",
       "  <thead>\n",
       "    <tr style=\"text-align: right;\">\n",
       "      <th></th>\n",
       "      <th>$W_{MRT}(V)$</th>\n",
       "      <th>$W_{ZF}(V)$</th>\n",
       "      <th>$W_{ZF}(F)$</th>\n",
       "      <th>$W_{RZF}(V)$</th>\n",
       "      <th>$W_{RZF}(F)$</th>\n",
       "      <th>$W_{WRZF}(V)$</th>\n",
       "      <th>$W_{ARZF}(V)$</th>\n",
       "      <th>$W_{OPT}(V)$</th>\n",
       "    </tr>\n",
       "    <tr>\n",
       "      <th>SU SINR</th>\n",
       "      <th></th>\n",
       "      <th></th>\n",
       "      <th></th>\n",
       "      <th></th>\n",
       "      <th></th>\n",
       "      <th></th>\n",
       "      <th></th>\n",
       "      <th></th>\n",
       "    </tr>\n",
       "  </thead>\n",
       "  <tbody>\n",
       "    <tr>\n",
       "      <th>0</th>\n",
       "      <td>1.451542</td>\n",
       "      <td>2.267965</td>\n",
       "      <td>0.020171</td>\n",
       "      <td>2.365226</td>\n",
       "      <td>2.464740</td>\n",
       "      <td>1.483459</td>\n",
       "      <td>3.912436</td>\n",
       "      <td>4.067071</td>\n",
       "    </tr>\n",
       "    <tr>\n",
       "      <th>4</th>\n",
       "      <td>1.753262</td>\n",
       "      <td>3.128448</td>\n",
       "      <td>0.048088</td>\n",
       "      <td>3.187040</td>\n",
       "      <td>2.793446</td>\n",
       "      <td>1.843604</td>\n",
       "      <td>4.910396</td>\n",
       "      <td>5.096638</td>\n",
       "    </tr>\n",
       "    <tr>\n",
       "      <th>8</th>\n",
       "      <td>2.082739</td>\n",
       "      <td>4.162559</td>\n",
       "      <td>0.113224</td>\n",
       "      <td>4.194968</td>\n",
       "      <td>3.095061</td>\n",
       "      <td>2.328960</td>\n",
       "      <td>6.030672</td>\n",
       "      <td>6.320844</td>\n",
       "    </tr>\n",
       "    <tr>\n",
       "      <th>12</th>\n",
       "      <td>2.405958</td>\n",
       "      <td>5.292462</td>\n",
       "      <td>0.260405</td>\n",
       "      <td>5.310206</td>\n",
       "      <td>3.374939</td>\n",
       "      <td>3.018081</td>\n",
       "      <td>7.170717</td>\n",
       "      <td>7.629245</td>\n",
       "    </tr>\n",
       "    <tr>\n",
       "      <th>16</th>\n",
       "      <td>2.712676</td>\n",
       "      <td>6.513081</td>\n",
       "      <td>0.542037</td>\n",
       "      <td>6.522406</td>\n",
       "      <td>3.610931</td>\n",
       "      <td>4.017426</td>\n",
       "      <td>8.228639</td>\n",
       "      <td>9.010113</td>\n",
       "    </tr>\n",
       "    <tr>\n",
       "      <th>20</th>\n",
       "      <td>2.994832</td>\n",
       "      <td>7.787475</td>\n",
       "      <td>1.026785</td>\n",
       "      <td>7.792343</td>\n",
       "      <td>3.660266</td>\n",
       "      <td>5.475095</td>\n",
       "      <td>9.260370</td>\n",
       "      <td>10.423454</td>\n",
       "    </tr>\n",
       "    <tr>\n",
       "      <th>24</th>\n",
       "      <td>3.243548</td>\n",
       "      <td>9.050578</td>\n",
       "      <td>1.746925</td>\n",
       "      <td>9.053121</td>\n",
       "      <td>3.761787</td>\n",
       "      <td>7.293116</td>\n",
       "      <td>10.230525</td>\n",
       "      <td>11.743740</td>\n",
       "    </tr>\n",
       "    <tr>\n",
       "      <th>28</th>\n",
       "      <td>3.474316</td>\n",
       "      <td>10.399902</td>\n",
       "      <td>2.772358</td>\n",
       "      <td>10.401131</td>\n",
       "      <td>4.083118</td>\n",
       "      <td>9.581010</td>\n",
       "      <td>11.239982</td>\n",
       "      <td>13.094654</td>\n",
       "    </tr>\n",
       "    <tr>\n",
       "      <th>32</th>\n",
       "      <td>3.645106</td>\n",
       "      <td>11.653975</td>\n",
       "      <td>3.949173</td>\n",
       "      <td>11.654567</td>\n",
       "      <td>4.726035</td>\n",
       "      <td>11.599106</td>\n",
       "      <td>12.186724</td>\n",
       "      <td>14.172361</td>\n",
       "    </tr>\n",
       "    <tr>\n",
       "      <th>36</th>\n",
       "      <td>3.758940</td>\n",
       "      <td>12.825747</td>\n",
       "      <td>5.155240</td>\n",
       "      <td>12.826029</td>\n",
       "      <td>5.553547</td>\n",
       "      <td>13.102970</td>\n",
       "      <td>13.125791</td>\n",
       "      <td>15.241440</td>\n",
       "    </tr>\n",
       "    <tr>\n",
       "      <th>40</th>\n",
       "      <td>3.826902</td>\n",
       "      <td>13.902234</td>\n",
       "      <td>6.339269</td>\n",
       "      <td>13.902363</td>\n",
       "      <td>6.521129</td>\n",
       "      <td>14.210227</td>\n",
       "      <td>14.052450</td>\n",
       "      <td>16.162180</td>\n",
       "    </tr>\n",
       "  </tbody>\n",
       "</table>\n",
       "</div>"
      ],
      "text/plain": [
       "         $W_{MRT}(V)$  $W_{ZF}(V)$  $W_{ZF}(F)$  $W_{RZF}(V)$  $W_{RZF}(F)$  \\\n",
       "SU SINR                                                                       \n",
       "0            1.451542     2.267965     0.020171      2.365226      2.464740   \n",
       "4            1.753262     3.128448     0.048088      3.187040      2.793446   \n",
       "8            2.082739     4.162559     0.113224      4.194968      3.095061   \n",
       "12           2.405958     5.292462     0.260405      5.310206      3.374939   \n",
       "16           2.712676     6.513081     0.542037      6.522406      3.610931   \n",
       "20           2.994832     7.787475     1.026785      7.792343      3.660266   \n",
       "24           3.243548     9.050578     1.746925      9.053121      3.761787   \n",
       "28           3.474316    10.399902     2.772358     10.401131      4.083118   \n",
       "32           3.645106    11.653975     3.949173     11.654567      4.726035   \n",
       "36           3.758940    12.825747     5.155240     12.826029      5.553547   \n",
       "40           3.826902    13.902234     6.339269     13.902363      6.521129   \n",
       "\n",
       "         $W_{WRZF}(V)$  $W_{ARZF}(V)$  $W_{OPT}(V)$  \n",
       "SU SINR                                              \n",
       "0             1.483459       3.912436      4.067071  \n",
       "4             1.843604       4.910396      5.096638  \n",
       "8             2.328960       6.030672      6.320844  \n",
       "12            3.018081       7.170717      7.629245  \n",
       "16            4.017426       8.228639      9.010113  \n",
       "20            5.475095       9.260370     10.423454  \n",
       "24            7.293116      10.230525     11.743740  \n",
       "28            9.581010      11.239982     13.094654  \n",
       "32           11.599106      12.186724     14.172361  \n",
       "36           13.102970      13.125791     15.241440  \n",
       "40           14.210227      14.052450     16.162180  "
      ]
     },
     "execution_count": 22,
     "metadata": {},
     "output_type": "execute_result"
    }
   ],
   "source": [
    "history_mean"
   ]
  },
  {
   "cell_type": "markdown",
   "metadata": {},
   "source": [
    "history_mean.to_excel(\"Tables/Opt_Avg_SE_4_Users_Urban_NLOS_Paper_Native.xlsx\")"
   ]
  },
  {
   "cell_type": "code",
   "execution_count": 23,
   "metadata": {},
   "outputs": [
    {
     "data": {
      "text/plain": [
       "SU SINR\n",
       "0     65.414923\n",
       "4     54.073865\n",
       "8     43.759676\n",
       "12    35.036524\n",
       "16    26.159560\n",
       "20    18.839361\n",
       "24    13.005500\n",
       "28     8.064994\n",
       "32     4.566083\n",
       "36     2.337137\n",
       "40     1.079581\n",
       "dtype: float64"
      ]
     },
     "execution_count": 23,
     "metadata": {},
     "output_type": "execute_result"
    }
   ],
   "source": [
    "100 * (history_mean['$W_{ARZF}(V)$'] / history_mean[\"$W_{RZF}(V)$\"] - 1)"
   ]
  },
  {
   "cell_type": "code",
   "execution_count": 24,
   "metadata": {},
   "outputs": [
    {
     "data": {
      "image/png": "[encoded data removed]",
      "text/plain": [
       "<Figure size 698.4x451.44 with 1 Axes>"
      ]
     },
     "metadata": {},
     "output_type": "display_data"
    }
   ],
   "source": [
    "history_mean.columns.name = \"Precoding\"\n",
    "history_mean.index.name = \"Average Single-User SINR\"\n",
    "ax = history_mean.plot(lw=3,# yerr=history_std, alpha=0.9, \n",
    "                    color=['blue', 'gold', 'magenta', 'green', 'dodgerblue', 'cyan', 'red', 'k'])\n",
    "ax.set_ylabel(\"Average User Spectral Efficiency\")\n",
    "plt.title(\"Downlink Urban NLOS 4 Users Scenario\")\n",
    "\n",
    "# for n in history_mean:\n",
    "#     ax.fill_between(history_mean[n].index, history_mean[n] - history_std[n],\n",
    "#                     history_mean[n] + history_std[n], alpha=0.1)\n",
    "\n",
    "plt.tight_layout()\n",
    "plt.savefig(\"Avg_SE_4_Users_Urban_NLOS_Paper_Pathloss.pdf\")"
   ]
  },
  {
   "cell_type": "code",
   "execution_count": 25,
   "metadata": {},
   "outputs": [
    {
     "name": "stdout",
     "output_type": "stream",
     "text": [
      "\\begin{tabular}{lrrrrrrrr}\n",
      "\\toprule\n",
      "Precoding &  \\$W\\_\\{MRT\\}(V)\\$ &  \\$W\\_\\{ZF\\}(V)\\$ &  \\$W\\_\\{ZF\\}(F)\\$ &  \\$W\\_\\{RZF\\}(V)\\$ &  \\$W\\_\\{RZF\\}(F)\\$ &  \\$W\\_\\{WRZF\\}(V)\\$ &  \\$W\\_\\{ARZF\\}(V)\\$ &  \\$W\\_\\{OPT\\}(V)\\$ \\\\\n",
      "Average Single-User SINR &               &              &              &               &               &                &                &               \\\\\n",
      "\\midrule\n",
      "0                        &          1.45 &         2.27 &         0.02 &          2.37 &          2.46 &           1.48 &           3.91 &          4.07 \\\\\n",
      "4                        &          1.75 &         3.13 &         0.05 &          3.19 &          2.79 &           1.84 &           4.91 &          5.10 \\\\\n",
      "8                        &          2.08 &         4.16 &         0.11 &          4.19 &          3.10 &           2.33 &           6.03 &          6.32 \\\\\n",
      "12                       &          2.41 &         5.29 &         0.26 &          5.31 &          3.37 &           3.02 &           7.17 &          7.63 \\\\\n",
      "16                       &          2.71 &         6.51 &         0.54 &          6.52 &          3.61 &           4.02 &           8.23 &          9.01 \\\\\n",
      "20                       &          2.99 &         7.79 &         1.03 &          7.79 &          3.66 &           5.48 &           9.26 &         10.42 \\\\\n",
      "24                       &          3.24 &         9.05 &         1.75 &          9.05 &          3.76 &           7.29 &          10.23 &         11.74 \\\\\n",
      "28                       &          3.47 &        10.40 &         2.77 &         10.40 &          4.08 &           9.58 &          11.24 &         13.09 \\\\\n",
      "32                       &          3.65 &        11.65 &         3.95 &         11.65 &          4.73 &          11.60 &          12.19 &         14.17 \\\\\n",
      "36                       &          3.76 &        12.83 &         5.16 &         12.83 &          5.55 &          13.10 &          13.13 &         15.24 \\\\\n",
      "40                       &          3.83 &        13.90 &         6.34 &         13.90 &          6.52 &          14.21 &          14.05 &         16.16 \\\\\n",
      "\\bottomrule\n",
      "\\end{tabular}\n",
      "\n"
     ]
    }
   ],
   "source": [
    "print(history_mean.round(2).to_latex())"
   ]
  },
  {
   "cell_type": "markdown",
   "metadata": {},
   "source": [
    "### SU-SINR Defines Everything"
   ]
  },
  {
   "cell_type": "code",
   "execution_count": 26,
   "metadata": {},
   "outputs": [
    {
     "data": {
      "text/plain": [
       "0.0040616087798206815"
      ]
     },
     "execution_count": 26,
     "metadata": {},
     "output_type": "execute_result"
    }
   ],
   "source": [
    "H = loadmat(path)[\"coeff\"][..., -1]\n",
    "n_users, n_layers, n_antennas = H.shape # Global constants\n",
    "S, V = np.linalg.svd(H, full_matrices=False)[1:]\n",
    "S_max = S[:, 0].max()\n",
    "\n",
    "V = torch.from_numpy(V[:, :n_ranks, :].reshape(-1, n_antennas))\n",
    "S = torch.from_numpy(S[:, :n_ranks].flatten())\n",
    "H = torch.from_numpy(H)\n",
    "\n",
    "flying_sinr = FlyingSuSinr(S, s_grid)\n",
    "s = s_grid[bisect(flying_sinr, target_sinr)]\n",
    "\n",
    "H /= S_max; S /= S_max\n",
    "\n",
    "\n",
    "s /= S_max\n",
    "s"
   ]
  },
  {
   "cell_type": "code",
   "execution_count": 27,
   "metadata": {},
   "outputs": [
    {
     "data": {
      "text/plain": [
       "40.21984390430612"
      ]
     },
     "execution_count": 27,
     "metadata": {},
     "output_type": "execute_result"
    }
   ],
   "source": [
    "su_sinr(S, s)"
   ]
  },
  {
   "cell_type": "code",
   "execution_count": 28,
   "metadata": {},
   "outputs": [
    {
     "data": {
      "text/plain": [
       "tensor(14.8007, dtype=torch.float64)"
      ]
     },
     "execution_count": 28,
     "metadata": {},
     "output_type": "execute_result"
    }
   ],
   "source": [
    "W_RG = normalize_precoding(regularized(V, s))\n",
    "spectral_efficiency(H, W_RG, s)"
   ]
  },
  {
   "cell_type": "code",
   "execution_count": 29,
   "metadata": {},
   "outputs": [
    {
     "data": {
      "text/plain": [
       "tensor(15.9189, dtype=torch.float64)"
      ]
     },
     "execution_count": 29,
     "metadata": {},
     "output_type": "execute_result"
    }
   ],
   "source": [
    "r = diagonal_regularizer_solver(H, V, S, s)\n",
    "W_DR = normalize_max_antennas(regularized(V, r))\n",
    "spectral_efficiency(H, W_DR, s)"
   ]
  },
  {
   "cell_type": "code",
   "execution_count": 30,
   "metadata": {},
   "outputs": [
    {
     "data": {
      "text/plain": [
       "0.11623224686798525"
      ]
     },
     "execution_count": 30,
     "metadata": {},
     "output_type": "execute_result"
    }
   ],
   "source": [
    "H = loadmat(path)[\"coeff\"][..., -1]\n",
    "n_users, n_layers, n_antennas = H.shape # Global constants\n",
    "S, V = np.linalg.svd(H, full_matrices=False)[1:]\n",
    "#S_max = S[:, 0].max()\n",
    "#H /= S_max; S /= S_max\n",
    "\n",
    "V = torch.from_numpy(V[:, :n_ranks, :].reshape(-1, n_antennas))\n",
    "S = torch.from_numpy(S[:, :n_ranks].flatten())\n",
    "H = torch.from_numpy(H)\n",
    "\n",
    "s *= S_max\n",
    "s"
   ]
  },
  {
   "cell_type": "code",
   "execution_count": 31,
   "metadata": {},
   "outputs": [
    {
     "data": {
      "text/plain": [
       "40.21984390430612"
      ]
     },
     "execution_count": 31,
     "metadata": {},
     "output_type": "execute_result"
    }
   ],
   "source": [
    "su_sinr(S, s)"
   ]
  },
  {
   "cell_type": "code",
   "execution_count": 32,
   "metadata": {},
   "outputs": [
    {
     "data": {
      "text/plain": [
       "tensor(14.8007, dtype=torch.float64)"
      ]
     },
     "execution_count": 32,
     "metadata": {},
     "output_type": "execute_result"
    }
   ],
   "source": [
    "spectral_efficiency(H, W_RG, s)"
   ]
  },
  {
   "cell_type": "code",
   "execution_count": 33,
   "metadata": {},
   "outputs": [
    {
     "data": {
      "text/plain": [
       "tensor(15.9189, dtype=torch.float64)"
      ]
     },
     "execution_count": 33,
     "metadata": {},
     "output_type": "execute_result"
    }
   ],
   "source": [
    "spectral_efficiency(H, W_DR, s)"
   ]
  },
  {
   "cell_type": "markdown",
   "metadata": {},
   "source": [
    "### Noise Reweigthing"
   ]
  },
  {
   "cell_type": "code",
   "execution_count": 34,
   "metadata": {},
   "outputs": [
    {
     "data": {
      "text/plain": [
       "0.11623224686798524"
      ]
     },
     "execution_count": 34,
     "metadata": {},
     "output_type": "execute_result"
    }
   ],
   "source": [
    "H = loadmat(path)[\"coeff\"][..., -1]\n",
    "n_users, n_layers, n_antennas = H.shape # Global constants\n",
    "S, V = np.linalg.svd(H, full_matrices=False)[1:]\n",
    "S_max = S[:, 0].max()\n",
    "#H /= S_max; S /= S_max\n",
    "\n",
    "V = torch.from_numpy(V[:, :n_ranks, :].reshape(-1, n_antennas))\n",
    "S = torch.from_numpy(S[:, :n_ranks].flatten())\n",
    "H = torch.from_numpy(H)\n",
    "\n",
    "flying_sinr = FlyingSuSinr(S, s_grid)\n",
    "s = s_grid[bisect(flying_sinr, target_sinr)]\n",
    "\n",
    "s"
   ]
  },
  {
   "cell_type": "code",
   "execution_count": 35,
   "metadata": {},
   "outputs": [
    {
     "data": {
      "text/plain": [
       "40.21984390430612"
      ]
     },
     "execution_count": 35,
     "metadata": {},
     "output_type": "execute_result"
    }
   ],
   "source": [
    "su_sinr(S, s)"
   ]
  },
  {
   "cell_type": "code",
   "execution_count": 36,
   "metadata": {},
   "outputs": [
    {
     "data": {
      "text/plain": [
       "tensor(13.1401, dtype=torch.float64)"
      ]
     },
     "execution_count": 36,
     "metadata": {},
     "output_type": "execute_result"
    }
   ],
   "source": [
    "W_RG = normalize_precoding(regularized(V, s))\n",
    "spectral_efficiency(H, W_RG, s)"
   ]
  },
  {
   "cell_type": "code",
   "execution_count": 37,
   "metadata": {},
   "outputs": [
    {
     "data": {
      "text/plain": [
       "tensor(15.9189, dtype=torch.float64)"
      ]
     },
     "execution_count": 37,
     "metadata": {},
     "output_type": "execute_result"
    }
   ],
   "source": [
    "r = diagonal_regularizer_solver(H, V, S, s)\n",
    "W_DR = normalize_max_antennas(regularized(V, r))\n",
    "spectral_efficiency(H, W_DR, s)"
   ]
  },
  {
   "cell_type": "code",
   "execution_count": 38,
   "metadata": {},
   "outputs": [],
   "source": [
    "H /= S_max; S /= S_max"
   ]
  },
  {
   "cell_type": "code",
   "execution_count": 39,
   "metadata": {},
   "outputs": [
    {
     "data": {
      "text/plain": [
       "tensor(2.0223, dtype=torch.float64)"
      ]
     },
     "execution_count": 39,
     "metadata": {},
     "output_type": "execute_result"
    }
   ],
   "source": [
    "spectral_efficiency(H, W_RG, s)"
   ]
  },
  {
   "cell_type": "code",
   "execution_count": 40,
   "metadata": {},
   "outputs": [
    {
     "data": {
      "text/plain": [
       "tensor(1.9605, dtype=torch.float64)"
      ]
     },
     "execution_count": 40,
     "metadata": {},
     "output_type": "execute_result"
    }
   ],
   "source": [
    "spectral_efficiency(H, W_DR, s)"
   ]
  },
  {
   "cell_type": "code",
   "execution_count": 41,
   "metadata": {},
   "outputs": [
    {
     "data": {
      "text/plain": [
       "tensor(13.1401, dtype=torch.float64)"
      ]
     },
     "execution_count": 41,
     "metadata": {},
     "output_type": "execute_result"
    }
   ],
   "source": [
    "spectral_efficiency(H, W_RG, s / S_max)"
   ]
  },
  {
   "cell_type": "code",
   "execution_count": 42,
   "metadata": {},
   "outputs": [
    {
     "data": {
      "text/plain": [
       "tensor(15.9189, dtype=torch.float64)"
      ]
     },
     "execution_count": 42,
     "metadata": {},
     "output_type": "execute_result"
    }
   ],
   "source": [
    "spectral_efficiency(H, W_DR, s / S_max)"
   ]
  }
 ],
 "metadata": {
  "kernelspec": {
   "display_name": "Python 3",
   "language": "python",
   "name": "python3"
  },
  "language_info": {
   "codemirror_mode": {
    "name": "ipython",
    "version": 3
   },
   "file_extension": ".py",
   "mimetype": "text/x-python",
   "name": "python",
   "nbconvert_exporter": "python",
   "pygments_lexer": "ipython3",
   "version": "3.8.8"
  }
 },
 "nbformat": 4,
 "nbformat_minor": 2
}
